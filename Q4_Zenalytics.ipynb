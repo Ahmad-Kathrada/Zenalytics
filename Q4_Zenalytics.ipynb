{
 "cells": [
  {
   "cell_type": "code",
   "execution_count": 2,
   "metadata": {},
   "outputs": [],
   "source": [
    "import pandas as pd\n",
    "import html5lib\n",
    "calls_df = pd.read_html('https://www.shell.co.uk/business-customers/upstream-oil-and-gas-infrastructure/upstream-operational-information.html',header =0)"
   ]
  },
  {
   "cell_type": "code",
   "execution_count": 3,
   "metadata": {},
   "outputs": [],
   "source": [
    "#Separating the 2 dataframes\n",
    "Unplanned = calls_df[0]\n",
    "Planned = calls_df[1]\n"
   ]
  },
  {
   "cell_type": "code",
   "execution_count": null,
   "metadata": {},
   "outputs": [],
   "source": [
    "#The column 'Volume Impact mcm/day' should contain only float values \n",
    "# - you should create another column called 'Remarks' that contain \n",
    "# the text that follows after the number.\n",
    "Unplanned['Volume impact mcm/day'].str.split('–',expand=True)\n",
    "Planned['Volume impact mcm/day'].str.split('–',expand=True)"
   ]
  },
  {
   "cell_type": "code",
   "execution_count": 13,
   "metadata": {},
   "outputs": [
    {
     "data": {
      "text/html": [
       "<div>\n",
       "<style scoped>\n",
       "    .dataframe tbody tr th:only-of-type {\n",
       "        vertical-align: middle;\n",
       "    }\n",
       "\n",
       "    .dataframe tbody tr th {\n",
       "        vertical-align: top;\n",
       "    }\n",
       "\n",
       "    .dataframe thead th {\n",
       "        text-align: right;\n",
       "    }\n",
       "</style>\n",
       "<table border=\"1\" class=\"dataframe\">\n",
       "  <thead>\n",
       "    <tr style=\"text-align: right;\">\n",
       "      <th></th>\n",
       "      <th>Event ID</th>\n",
       "      <th>Message Type</th>\n",
       "      <th>Facility</th>\n",
       "      <th>Time Published</th>\n",
       "      <th>Time of Event</th>\n",
       "      <th>Expected End</th>\n",
       "      <th>Actual End</th>\n",
       "      <th>Volume impact mcm/day</th>\n",
       "    </tr>\n",
       "  </thead>\n",
       "  <tbody>\n",
       "  </tbody>\n",
       "</table>\n",
       "</div>"
      ],
      "text/plain": [
       "Empty DataFrame\n",
       "Columns: [Event ID, Message Type, Facility, Time Published, Time of Event, Expected End, Actual End, Volume impact mcm/day]\n",
       "Index: []"
      ]
     },
     "execution_count": 13,
     "metadata": {},
     "output_type": "execute_result"
    }
   ],
   "source": [
    "#check and remove for duplicates\n",
    "Unplanned[Unplanned.duplicated()]\n",
    "Planned[Planned.duplicated()]"
   ]
  },
  {
   "cell_type": "code",
   "execution_count": 16,
   "metadata": {},
   "outputs": [],
   "source": [
    "#Data type, such as datetime, float, and integer, must be properly defined\n",
    "Unplanned['Time Published'] = pd.to_datetime(Unplanned['Time Published'])\n",
    "# Unplanned['Time Published'] = pd.to_datetime(Unplanned['Time Published'])\n",
    "# Unplanned['Time Published'] = pd.to_datetime(Unplanned['Time Published'])\n",
    "# Unplanned['Time Published'] = pd.to_datetime(Unplanned['Time Published'])\n",
    "# Unplanned['Time Published'] = pd.to_datetime(Unplanned['Time Published'])\n",
    "Unplanned.info()"
   ]
  },
  {
   "cell_type": "code",
   "execution_count": null,
   "metadata": {},
   "outputs": [],
   "source": [
    "#All datetime fields have to be adjusted for timezone."
   ]
  },
  {
   "cell_type": "code",
   "execution_count": 21,
   "metadata": {},
   "outputs": [],
   "source": [
    "# If any of the entries is ‘unknown’, set it to null (None)\n",
    "# All nan values and '-' should be converted to null (None).\n",
    "# Unplanned = Unplanned.replace(np.nan,None)\n",
    "Unplanned = Unplanned.astype(object).where(pd.notnull(Unplanned),None)\n",
    "Unplanned = Unplanned.astype(object).where(Unplanned!='Unknown',None)"
   ]
  },
  {
   "cell_type": "code",
   "execution_count": null,
   "metadata": {},
   "outputs": [],
   "source": []
  },
  {
   "cell_type": "code",
   "execution_count": null,
   "metadata": {},
   "outputs": [],
   "source": []
  },
  {
   "cell_type": "code",
   "execution_count": null,
   "metadata": {},
   "outputs": [],
   "source": []
  },
  {
   "cell_type": "code",
   "execution_count": null,
   "metadata": {
    "collapsed": true
   },
   "outputs": [],
   "source": []
  },
  {
   "cell_type": "code",
   "execution_count": null,
   "metadata": {
    "collapsed": true
   },
   "outputs": [],
   "source": []
  },
  {
   "cell_type": "code",
   "execution_count": null,
   "metadata": {
    "collapsed": true
   },
   "outputs": [],
   "source": []
  },
  {
   "cell_type": "code",
   "execution_count": null,
   "metadata": {
    "collapsed": true
   },
   "outputs": [],
   "source": []
  },
  {
   "cell_type": "code",
   "execution_count": null,
   "metadata": {
    "collapsed": true
   },
   "outputs": [],
   "source": []
  },
  {
   "cell_type": "code",
   "execution_count": null,
   "metadata": {
    "collapsed": true
   },
   "outputs": [],
   "source": []
  },
  {
   "cell_type": "code",
   "execution_count": null,
   "metadata": {
    "collapsed": true
   },
   "outputs": [],
   "source": []
  },
  {
   "cell_type": "code",
   "execution_count": null,
   "metadata": {
    "collapsed": true
   },
   "outputs": [],
   "source": []
  },
  {
   "cell_type": "code",
   "execution_count": null,
   "metadata": {
    "collapsed": true
   },
   "outputs": [],
   "source": []
  },
  {
   "cell_type": "code",
   "execution_count": null,
   "metadata": {},
   "outputs": [],
   "source": []
  },
  {
   "cell_type": "code",
   "execution_count": null,
   "metadata": {},
   "outputs": [],
   "source": [
    "\n"
   ]
  },
  {
   "cell_type": "code",
   "execution_count": 18,
   "metadata": {},
   "outputs": [
    {
     "name": "stdout",
     "output_type": "stream",
     "text": [
      "<class 'pandas.core.frame.DataFrame'>\n",
      "RangeIndex: 4 entries, 0 to 3\n",
      "Data columns (total 8 columns):\n",
      "Event ID                 4 non-null object\n",
      "Message Type             4 non-null object\n",
      "Facility                 4 non-null object\n",
      "Time Published           4 non-null datetime64[ns]\n",
      "Time of Event            4 non-null object\n",
      "Expected End             2 non-null object\n",
      "Actual End               2 non-null object\n",
      "Volume impact mcm/day    4 non-null object\n",
      "dtypes: datetime64[ns](1), object(7)\n",
      "memory usage: 336.0+ bytes\n"
     ]
    }
   ],
   "source": [
    "Unplanned.info()"
   ]
  },
  {
   "cell_type": "code",
   "execution_count": null,
   "metadata": {},
   "outputs": [],
   "source": []
  },
  {
   "cell_type": "code",
   "execution_count": 19,
   "metadata": {},
   "outputs": [],
   "source": [
    "# Unplanned[['Volume_impact','Remarks']] = "
   ]
  },
  {
   "cell_type": "code",
   "execution_count": 20,
   "metadata": {},
   "outputs": [
    {
     "data": {
      "text/plain": [
       "'5.6 mcm/day – No SEAL gas deliveries at Bacton due to unavailability of liquid export route. Volume impact for Shell operated offshore facility only.'"
      ]
     },
     "execution_count": 20,
     "metadata": {},
     "output_type": "execute_result"
    }
   ],
   "source": [
    "Volume_impact[0]"
   ]
  },
  {
   "cell_type": "code",
   "execution_count": null,
   "metadata": {},
   "outputs": [],
   "source": []
  },
  {
   "cell_type": "code",
   "execution_count": null,
   "metadata": {},
   "outputs": [],
   "source": []
  },
  {
   "cell_type": "code",
   "execution_count": null,
   "metadata": {},
   "outputs": [],
   "source": []
  },
  {
   "cell_type": "code",
   "execution_count": null,
   "metadata": {
    "collapsed": true
   },
   "outputs": [],
   "source": []
  }
 ],
 "metadata": {
  "anaconda-cloud": {},
  "kernelspec": {
   "display_name": "Python [conda env:Zenalytics]",
   "language": "python",
   "name": "conda-env-Zenalytics-py"
  },
  "language_info": {
   "codemirror_mode": {
    "name": "ipython",
    "version": 3
   },
   "file_extension": ".py",
   "mimetype": "text/x-python",
   "name": "python",
   "nbconvert_exporter": "python",
   "pygments_lexer": "ipython3",
   "version": "3.5.5"
  }
 },
 "nbformat": 4,
 "nbformat_minor": 2
}
