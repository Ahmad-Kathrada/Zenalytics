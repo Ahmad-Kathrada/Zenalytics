{
 "cells": [
  {
   "cell_type": "code",
   "execution_count": 1,
   "metadata": {
    "collapsed": false
   },
   "outputs": [],
   "source": [
    "import pandas as pd\n",
    "import html5lib\n",
    "calls_df = pd.read_html('https://www.shell.co.uk/business-customers/upstream-oil-and-gas-infrastructure/upstream-operational-information.html',header =0)"
   ]
  },
  {
   "cell_type": "code",
   "execution_count": 2,
   "metadata": {
    "collapsed": false
   },
   "outputs": [
    {
     "name": "stdout",
     "output_type": "stream",
     "text": [
      "[     Event ID Message Type Facility    Time Published     Time of Event  \\\n",
      "0  20180208SL          New     SEAL  06:00 08/02/2018  06:00 08/02/2018   \n",
      "1  20180208SL        Final     SEAL  23:00 08/02/2018  06:00 08/02/2018   \n",
      "2  20180228BN          New   Bacton  11:45 28/02/2018  08:00 28/02/2018   \n",
      "3  20180228BN        Final   Bacton  18:10 28/02/2018  08:00 28/02/2018   \n",
      "\n",
      "  Expected End        Actual End  \\\n",
      "0      Unknown               NaN   \n",
      "1          NaN  22:00 08/02/2018   \n",
      "2      Unknown               NaN   \n",
      "3          NaN  17:57 28/02/2018   \n",
      "\n",
      "                               Volume impact mcm/day  \n",
      "0  5.6 mcm/day – No SEAL gas deliveries at Bacton...  \n",
      "1  Export capability returned – production restar...  \n",
      "2    5 mcm/day – Restricted gas deliveries at Bacton  \n",
      "3                         Export capability returned  ,        Event ID Message Type   Facility    Time Published     Time of Event  \\\n",
      "0    20180514BN          New     Bacton  10:00 21/11/2017  06:00 14/05/2018   \n",
      "1    20180514BN     Revision     Bacton  11:55 15/05/2018  06:00 14/05/2018   \n",
      "2    20180212SF          New  St Fergus  17:20 06/12/2017   09:00 12/2/2018   \n",
      "3    20180827SF     Revision  St Fergus  14:32 03/30/2017  06:00 15/08/2018   \n",
      "4   201808081SL          New       SEAL  12:00 22/01/2018  06:00 01/08/2018   \n",
      "5   201808081SL     Revision       SEAL  11:00 06/04/2018  06:00 03/08/2018   \n",
      "6    20180213SF          New  St Fergus    12.45 1/2/2018   08:00 13/2/2018   \n",
      "7    20180212SF        Final  St Fergus  23:00 12/02/2018  09:00 12/02/2018   \n",
      "8    20180213SF        Final  St Fergus  14:20 14/02/2018   08:00 13/2/2018   \n",
      "9    20180601SL          New       SEAL  10:30 03/04/2018  06:00 01/06/2018   \n",
      "10   20180514BN     Revision     Bacton  20:20 15/05/2018  06:00 14/05/2018   \n",
      "11   20180514BN        Final     Bacton  09:55 16/05/2018  06:00 14/05/2018   \n",
      "\n",
      "        Expected End        Actual End  \\\n",
      "0   06:00 15/05/2018               NaN   \n",
      "1   18:00 15/05/2018               NaN   \n",
      "2    21:00 12/2/2018               NaN   \n",
      "3    06:00 15/9/2018               NaN   \n",
      "4   06:00 05/08/2018               NaN   \n",
      "5   06:00 07/08/2018               NaN   \n",
      "6    20:00 13/2/2018               NaN   \n",
      "7   21:00 12/02/2018  21:20 12/02/2018   \n",
      "8    20:00 13/2/2018   15:00 13/2/2018   \n",
      "9   06:00 04/06/2018               NaN   \n",
      "10  06:00 16/05/2018               NaN   \n",
      "11  06:00 16/05/2018  09:30 16/05/2018   \n",
      "\n",
      "                                Volume impact mcm/day  \n",
      "0                                        12.5 mcm/day  \n",
      "1                                        12.5 mcm/day  \n",
      "2    16 mcm/day (6-12hr plant outage for ESD testing)  \n",
      "3   7.5 mcm/day (but 50% terminal capacity reducti...  \n",
      "4   17.5 mcm/day ESD testing & planned maintenance...  \n",
      "5   17.5 mcm/day ESD testing & planned maintenance...  \n",
      "6   7.5 mcm/day (but 50% terminal capacity reducti...  \n",
      "7                                          16 mcm/day  \n",
      "8   7.5 mcm/day (but 50% terminal capacity reducti...  \n",
      "9   13 mcm/day - No SEAL gas deliveries at Bacton ...  \n",
      "10                                       12.5 mcm/day  \n",
      "11  Bacton available to receive gas deliveries – d...  ]\n"
     ]
    }
   ],
   "source": [
    "print(calls_df)"
   ]
  },
  {
   "cell_type": "code",
   "execution_count": 3,
   "metadata": {
    "collapsed": false
   },
   "outputs": [],
   "source": [
    "Unplanned = calls_df[0]\n",
    "Planned = calls_df[1]\n",
    "d = {'Unplanned':Unplanned}\n",
    "e = {'Planned':Planned}"
   ]
  },
  {
   "cell_type": "code",
   "execution_count": 4,
   "metadata": {
    "collapsed": false
   },
   "outputs": [],
   "source": [
    "Volume_impact = Unplanned[\"Volume impact mcm/day\"]"
   ]
  },
  {
   "cell_type": "code",
   "execution_count": 5,
   "metadata": {
    "collapsed": false
   },
   "outputs": [
    {
     "data": {
      "text/plain": [
       "0    5.6 mcm/day – No SEAL gas deliveries at Bacton...\n",
       "1    Export capability returned – production restar...\n",
       "2      5 mcm/day – Restricted gas deliveries at Bacton\n",
       "3                           Export capability returned\n",
       "Name: Volume impact mcm/day, dtype: object"
      ]
     },
     "execution_count": 5,
     "metadata": {},
     "output_type": "execute_result"
    }
   ],
   "source": [
    "Volume_impact"
   ]
  },
  {
   "cell_type": "code",
   "execution_count": 13,
   "metadata": {
    "collapsed": false
   },
   "outputs": [
    {
     "data": {
      "text/plain": [
       "u'5.6 mcm/day \\u2013 No SEAL gas deliveries at Bacton due to unavailability of liquid export route. Volume impact for Shell operated offshore facility only.'"
      ]
     },
     "execution_count": 13,
     "metadata": {},
     "output_type": "execute_result"
    }
   ],
   "source": [
    "Volume_impact[0]"
   ]
  },
  {
   "cell_type": "code",
   "execution_count": null,
   "metadata": {
    "collapsed": false
   },
   "outputs": [],
   "source": []
  },
  {
   "cell_type": "code",
   "execution_count": null,
   "metadata": {
    "collapsed": false
   },
   "outputs": [],
   "source": []
  },
  {
   "cell_type": "code",
   "execution_count": null,
   "metadata": {
    "collapsed": false
   },
   "outputs": [],
   "source": []
  },
  {
   "cell_type": "code",
   "execution_count": null,
   "metadata": {
    "collapsed": true
   },
   "outputs": [],
   "source": []
  }
 ],
 "metadata": {
  "anaconda-cloud": {},
  "kernelspec": {
   "display_name": "Python [default]",
   "language": "python",
   "name": "python2"
  },
  "language_info": {
   "codemirror_mode": {
    "name": "ipython",
    "version": 2
   },
   "file_extension": ".py",
   "mimetype": "text/x-python",
   "name": "python",
   "nbconvert_exporter": "python",
   "pygments_lexer": "ipython2",
   "version": "2.7.12"
  }
 },
 "nbformat": 4,
 "nbformat_minor": 2
}
